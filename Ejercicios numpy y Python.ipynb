{
 "cells": [
  {
   "cell_type": "code",
   "execution_count": null,
   "metadata": {},
   "outputs": [],
   "source": [
    "import numpy as np \n",
    "import pandas as pd\n",
    "users = pd.read_csv(\"usersv2.csv\")"
   ]
  },
  {
   "cell_type": "code",
   "execution_count": null,
   "metadata": {},
   "outputs": [],
   "source": [
    "users"
   ]
  },
  {
   "cell_type": "markdown",
   "metadata": {},
   "source": [
    "-Obtener el nombre y correo de todos los usuarios.\n"
   ]
  },
  {
   "cell_type": "code",
   "execution_count": null,
   "metadata": {},
   "outputs": [],
   "source": [
    "users [ ['name', 'email'] ]"
   ]
  },
  {
   "cell_type": "markdown",
   "metadata": {},
   "source": [
    "-Obtener el nombre de todos los usuarios cuyo sexo es Femenino.\n",
    "    "
   ]
  },
  {
   "cell_type": "code",
   "execution_count": null,
   "metadata": {},
   "outputs": [],
   "source": [
    "users [ users['gender'] == 'female'] ['name']"
   ]
  },
  {
   "cell_type": "markdown",
   "metadata": {},
   "source": [
    "-Obtener el nombre de todos los usuarios cuyo sexo es Masculino y tengan una\n",
    "edad mayor a 50."
   ]
  },
  {
   "cell_type": "code",
   "execution_count": null,
   "metadata": {},
   "outputs": [],
   "source": [
    " users [ users['gender'] == 'male' ] [users['age'] > 50] ['name'] #Mia\n",
    "#users [ (users['gender'] == 'male') & (users['age'] > 50) ] ['name'] #Profe con operadores lógicos."
   ]
  },
  {
   "cell_type": "markdown",
   "metadata": {},
   "source": [
    "-Obtener todos los usuarios cuya edad sea mayor a 68."
   ]
  },
  {
   "cell_type": "code",
   "execution_count": null,
   "metadata": {},
   "outputs": [],
   "source": [
    "users [ users['age'] > 68 ]"
   ]
  },
  {
   "cell_type": "markdown",
   "metadata": {},
   "source": [
    "Obtener el nombre y el país del usuario más joven."
   ]
  },
  {
   "cell_type": "code",
   "execution_count": null,
   "metadata": {},
   "outputs": [],
   "source": [
    "#users.sort_values('age') #Ordena de manera ascendente del más joven al más viejo.\n",
    "#users.sort_values('age').head(1) #Primer elemento de la lista\n",
    "#users.sort_values('age').tail(1) #Último elemento de la lista.\n",
    "#users.sort_values('age').head(1) [ ['name', 'country', 'age'] ]\n",
    "users.sort_values(['age', 'name']).head(1) [ ['name', 'country', 'age'] ] #Ordenando por edad y nombre."
   ]
  },
  {
   "cell_type": "markdown",
   "metadata": {},
   "source": [
    "Obtener el username y correo electrónico de los usuarios cuya edad se encuentre\n",
    "en el rango 50 a 60."
   ]
  },
  {
   "cell_type": "code",
   "execution_count": null,
   "metadata": {},
   "outputs": [],
   "source": [
    "users [ (users['age'] > 50) & (users['age'] < 60)] [ ['username', 'email', 'age'] ]\n"
   ]
  },
  {
   "cell_type": "markdown",
   "metadata": {},
   "source": [
    "-Obtener el username de todos los usuarios cuyo correo *NO* terminen con\n",
    "@example.com"
   ]
  },
  {
   "cell_type": "code",
   "execution_count": null,
   "metadata": {},
   "outputs": [],
   "source": [
    "users [ ~users['email'].str.endswith('@example.com')] [ ['email'] ] ##contain, startswith, endswith Es como si fuera el Like en SQL"
   ]
  },
  {
   "cell_type": "markdown",
   "metadata": {},
   "source": [
    "-Obtener el username de todos los usuarios cuyo país sea Alemania, Finlandia o\n",
    "Canadá."
   ]
  },
  {
   "cell_type": "code",
   "execution_count": null,
   "metadata": {},
   "outputs": [],
   "source": [
    "#users [ (users['country'] == 'Canada') | (users['country'] == 'Germany') | (users['country'] == 'Finland')]\n",
    "users [ users['country'].isin( ['Canada','Germany', 'Finland'])] [['username']]"
   ]
  },
  {
   "cell_type": "markdown",
   "metadata": {},
   "source": [
    "-Obtener el nombre y correo electrónico de todos los usuarios de sexo Femenino\n",
    "que sean del país Alemania."
   ]
  },
  {
   "cell_type": "code",
   "execution_count": null,
   "metadata": {},
   "outputs": [],
   "source": [
    "users[ (users['country'] == 'Germany') & (users['gender'] == 'female')] [ ['name', 'email'] ]"
   ]
  },
  {
   "cell_type": "markdown",
   "metadata": {},
   "source": [
    "Obtener el promedio de edad de todos los usuarios de sexo Femenino de Canada\n",
    "mayores de 20 años."
   ]
  },
  {
   "cell_type": "code",
   "execution_count": null,
   "metadata": {},
   "outputs": [],
   "source": [
    "users[ (users['country'] == 'Canada') & (users['gender'] == 'female') & (users ['age'] > 20)].mean()\n",
    "condition = (users['country'] == 'Canada') & (users['gender'] == 'female') & (users ['age'] > 20) #Otra forma\n",
    "users.age[condition].mean()\n",
    "#.mean() es para sacar el promedio."
   ]
  },
  {
   "cell_type": "markdown",
   "metadata": {},
   "source": [
    "-Conocer la cantidad de usuarios que residen en Finlandia."
   ]
  },
  {
   "cell_type": "code",
   "execution_count": null,
   "metadata": {},
   "outputs": [],
   "source": [
    "#users [users['country'] == 'Finland'].size #muestra el tamaño. \n",
    "users [users['country'] == 'Finland'] ['name'].count() #El Count cuenta"
   ]
  },
  {
   "cell_type": "markdown",
   "metadata": {},
   "source": [
    "-Mostrar en consola la cantidad de hombre y mujeres en el dataframe."
   ]
  },
  {
   "cell_type": "code",
   "execution_count": null,
   "metadata": {},
   "outputs": [],
   "source": [
    "users.groupby('gender')['gender'].count()"
   ]
  },
  {
   "cell_type": "markdown",
   "metadata": {},
   "source": [
    "-Mostrar en consola el país con más mujeres."
   ]
  },
  {
   "cell_type": "code",
   "execution_count": null,
   "metadata": {},
   "outputs": [],
   "source": [
    "users [ users['gender'] == 'female'].groupby('country') ['country'].count().sort_values(ascending = False).head(1) #Mas mujeres\n",
    "#users [ users['gender'] == 'female'].groupby('country') ['country'].count().sort_values(ascending = False).tail(1) #Menos mujeres"
   ]
  },
  {
   "cell_type": "markdown",
   "metadata": {},
   "source": [
    "-Obtener los 3 países con más usuarios."
   ]
  },
  {
   "cell_type": "code",
   "execution_count": null,
   "metadata": {},
   "outputs": [],
   "source": [
    "users.groupby('country')['country'].count().sort_values(ascending = False).head(3)\n"
   ]
  },
  {
   "cell_type": "markdown",
   "metadata": {},
   "source": [
    "Mostrar en consola el nombre de todos los usuarios cuya edad se encuentre en el\n",
    "rango de 10 a 20 y 40 a 70."
   ]
  },
  {
   "cell_type": "code",
   "execution_count": null,
   "metadata": {},
   "outputs": [],
   "source": [
    "users [(users ['age'] < 20 ) & (users ['age'] > 10) | ((users['age']<70) & (users['age']>40))] ['name']"
   ]
  },
  {
   "cell_type": "markdown",
   "metadata": {},
   "source": [
    "Mostrar en consola todos los usuarios con correo electrónico."
   ]
  },
  {
   "cell_type": "code",
   "execution_count": null,
   "metadata": {},
   "outputs": [],
   "source": [
    "users [users['email'].str.contains('@example.com')] ['email']"
   ]
  },
  {
   "cell_type": "markdown",
   "metadata": {},
   "source": [
    "Mostrar en pantalla el nombre y correo electrónico del usuario más joven en\n",
    "Canadá."
   ]
  },
  {
   "cell_type": "code",
   "execution_count": null,
   "metadata": {},
   "outputs": [],
   "source": [
    "users [ users['country'] == 'Canada'].sort_values('age').head(1) [['name', 'email']]\n"
   ]
  },
  {
   "cell_type": "markdown",
   "metadata": {},
   "source": [
    "Mostrar en pantalla el nombre y correo electrónico del usuario más viejo en\n",
    "Canada."
   ]
  },
  {
   "cell_type": "code",
   "execution_count": null,
   "metadata": {},
   "outputs": [],
   "source": [
    "users [ users['country'] == 'Canada'].sort_values('age').tail(1) [['name', 'email']]"
   ]
  },
  {
   "cell_type": "markdown",
   "metadata": {},
   "source": [
    "Listar en consola los 3 países con menor cantidad de usuarios."
   ]
  },
  {
   "cell_type": "code",
   "execution_count": null,
   "metadata": {},
   "outputs": [],
   "source": [
    "users.groupby('country')['country'].count().sort_values(ascending = True).head(3)"
   ]
  },
  {
   "cell_type": "markdown",
   "metadata": {},
   "source": [
    "Obtener el país con mayor cantidad de usuarios cuya edad sea mayor a 50."
   ]
  },
  {
   "cell_type": "code",
   "execution_count": null,
   "metadata": {},
   "outputs": [],
   "source": [
    "#users ['country'] [users ['age'] > 50 ].value_counts().sort_values(ascending = False).head(1)\n",
    "users[ users['age'] > 50].groupby('country')['country'].count().sort_values(ascending = False).head(1)"
   ]
  },
  {
   "cell_type": "markdown",
   "metadata": {},
   "source": [
    "Obtener el país con mayor promedio de edad."
   ]
  },
  {
   "cell_type": "code",
   "execution_count": null,
   "metadata": {},
   "outputs": [],
   "source": [
    "users.groupby('country')['age'].mean().sort_values(ascending = False).head(1)"
   ]
  },
  {
   "cell_type": "markdown",
   "metadata": {},
   "source": [
    "Mostrar en consola el país con más hombres."
   ]
  },
  {
   "cell_type": "code",
   "execution_count": null,
   "metadata": {},
   "outputs": [],
   "source": [
    "users [ users['gender'] == 'male'].groupby('country')['country'].count().sort_values(ascending= False).head(1)"
   ]
  },
  {
   "cell_type": "markdown",
   "metadata": {},
   "source": [
    "Mostrar en consola el nombre, username y edad de todos los usuarios cuya edad es mayor a 10 y no sean del país México, Brasil y Canadá."
   ]
  },
  {
   "cell_type": "code",
   "execution_count": null,
   "metadata": {},
   "outputs": [],
   "source": [
    "users [(users ['age'] > 10) & ~(users ['country'] == 'Mexico') & ~(users ['country'] == 'Canada') & ~(users ['country'] == 'Brasil')] [['name', 'username', 'age']]"
   ]
  },
  {
   "cell_type": "markdown",
   "metadata": {},
   "source": [
    "Mostrar en consola el código postal de todos los usuarios de México."
   ]
  },
  {
   "cell_type": "code",
   "execution_count": null,
   "metadata": {},
   "outputs": [],
   "source": [
    "users [ users['country']== 'Mexico'] ['postcode']"
   ]
  },
  {
   "cell_type": "markdown",
   "metadata": {},
   "source": [
    "Obtener la edad que más se repite en el DataFrame."
   ]
  },
  {
   "cell_type": "code",
   "execution_count": 40,
   "metadata": {},
   "outputs": [
    {
     "data": {
      "text/plain": [
       "age\n",
       "44    50\n",
       "Name: age, dtype: int64"
      ]
     },
     "execution_count": 40,
     "metadata": {},
     "output_type": "execute_result"
    }
   ],
   "source": [
    "users.groupby('age')['age'].count().sort_values(ascending = False).head(1)"
   ]
  },
  {
   "cell_type": "markdown",
   "metadata": {},
   "source": [
    "Obtener la edad que menos se repite en el DataFrame."
   ]
  },
  {
   "cell_type": "code",
   "execution_count": 42,
   "metadata": {},
   "outputs": [
    {
     "data": {
      "text/plain": [
       "age\n",
       "78    14\n",
       "Name: age, dtype: int64"
      ]
     },
     "execution_count": 42,
     "metadata": {},
     "output_type": "execute_result"
    }
   ],
   "source": [
    "users.groupby('age')['age'].count().sort_values(ascending = False).tail(1)"
   ]
  }
 ],
 "metadata": {
  "kernelspec": {
   "display_name": "Python 3.7.11 ('base')",
   "language": "python",
   "name": "python3"
  },
  "language_info": {
   "codemirror_mode": {
    "name": "ipython",
    "version": 3
   },
   "file_extension": ".py",
   "mimetype": "text/x-python",
   "name": "python",
   "nbconvert_exporter": "python",
   "pygments_lexer": "ipython3",
   "version": "3.7.11"
  },
  "orig_nbformat": 4,
  "vscode": {
   "interpreter": {
    "hash": "71c230b950c476e9f9bed67d5572d7385eccfa24e760fce11dba0bb764e4d514"
   }
  }
 },
 "nbformat": 4,
 "nbformat_minor": 2
}
